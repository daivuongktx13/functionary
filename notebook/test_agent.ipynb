{
 "cells": [
  {
   "cell_type": "code",
   "execution_count": 1,
   "metadata": {},
   "outputs": [
    {
     "name": "stdout",
     "output_type": "stream",
     "text": [
      "Product with ID 195859213 already exists.\n",
      "Stop Insert.\n"
     ]
    }
   ],
   "source": [
    "from datetime import datetime\n",
    "from langchain_core.tools import tool\n",
    "from langchain_core.prompts.chat import (\n",
    "    ChatPromptTemplate,\n",
    "    MessagesPlaceholder\n",
    ")\n",
    "\n",
    "from langchain_openai import ChatOpenAI\n",
    "from langchain.agents import AgentExecutor, create_openai_tools_agent\n",
    "\n",
    "from product import get_random_products, find_products_by_name, find_products_by_properties"
   ]
  },
  {
   "cell_type": "code",
   "execution_count": 2,
   "metadata": {},
   "outputs": [],
   "source": [
    "llm = ChatOpenAI(model=\"meta-llama/Meta-Llama-3.1-8B-Instruct\", \n",
    "    base_url=\"http://localhost:8000/v1\", api_key=\"functionary\")"
   ]
  },
  {
   "cell_type": "code",
   "execution_count": 3,
   "metadata": {},
   "outputs": [],
   "source": [
    "@tool\n",
    "def calculate_shipping_fee(address: str) -> str:\n",
    "    \"\"\"Xác định phí ship dựa vào thông tin địa chỉ nhận hàng của khách.\"\"\"\n",
    "    return \"Ship nội thành trong phạm vi 5km: free ship\"\n",
    "\n",
    "@tool\n",
    "def get_current_datetime() -> str:\n",
    "    \"\"\"Get the current date and time in ISO Date Time Format.\"\"\"\n",
    "    return datetime.now().isoformat()\n",
    "\n",
    "tools = [get_random_products, calculate_shipping_fee, get_current_datetime, find_products_by_properties, find_products_by_name]"
   ]
  },
  {
   "cell_type": "code",
   "execution_count": 4,
   "metadata": {},
   "outputs": [],
   "source": [
    "prompt = [\n",
    "    (\"human\", \"{input}\"),\n",
    "    MessagesPlaceholder(variable_name='agent_scratchpad')\n",
    "]\n",
    "\n",
    "prompt = ChatPromptTemplate.from_messages(prompt)"
   ]
  },
  {
   "cell_type": "code",
   "execution_count": 5,
   "metadata": {},
   "outputs": [],
   "source": [
    "agent = create_openai_tools_agent(llm, tools, prompt)\n",
    "agent_executor = AgentExecutor(agent=agent, \n",
    "    tools=tools, \n",
    "    verbose=True,\n",
    "    handle_parse_errors=True,\n",
    "    return_intermediate_steps=True)"
   ]
  },
  {
   "cell_type": "code",
   "execution_count": 6,
   "metadata": {},
   "outputs": [
    {
     "name": "stdout",
     "output_type": "stream",
     "text": [
      "\n",
      "\n",
      "\u001b[1m> Entering new AgentExecutor chain...\u001b[0m\n",
      "\u001b[32;1m\u001b[1;3m\n",
      "Invoking: `find_products_by_properties` with `{'color': 'đỏ', 'size': 'L'}`\n",
      "\n",
      "\n",
      "\u001b[0m\u001b[36;1m\u001b[1;3m[{\"product_id\": \"209917136\", \"product_name\": \"2 áo V1 đỏ tươi L (không kèm quần)\", \"color\": \"đỏ tươi\", \"size\": \"L\", \"note\": \"2 áo, không kèm quần\"}, {\"product_id\": \"177739462\", \"product_name\": \"A1 ĐỎ TƯƠI CẢ BỘ- (SIZE)L\", \"color\": \"đỏ tươi\", \"size\": \"L\", \"note\": \"cả bộ\"}, {\"product_id\": \"170262437\", \"product_name\": \"A1 ĐỎ TƯƠI CẢ BỘ- (SIZE) L\", \"color\": \"đỏ tươi\", \"size\": \"L\", \"note\": \"cả bộ\"}]\u001b[0m\u001b[32;1m\u001b[1;3mChị ơi! Em có 3 sản phẩm màu đỏ size L. Đây là thông tin chi tiết:\n",
      "\n",
      "- Áo V1 đỏ tươi L (không kèm quần)\n",
      "- A1 ĐỎ TƯƠI CẢ BỘ (SIZE)L (cả bộ)\n",
      "- A1 ĐỎ TƯƠI CẢ BỘ (SIZE) L (cả bộ)\n",
      "\n",
      "Shop hy vọng chị sẽ thích một trong số đó!\u001b[0m\n",
      "\n",
      "\u001b[1m> Finished chain.\u001b[0m\n"
     ]
    },
    {
     "data": {
      "text/plain": [
       "{'input': 'Shop có sản phẩm nào màu đỏ size L không?',\n",
       " 'output': 'Chị ơi! Em có 3 sản phẩm màu đỏ size L. Đây là thông tin chi tiết:\\n\\n- Áo V1 đỏ tươi L (không kèm quần)\\n- A1 ĐỎ TƯƠI CẢ BỘ (SIZE)L (cả bộ)\\n- A1 ĐỎ TƯƠI CẢ BỘ (SIZE) L (cả bộ)\\n\\nShop hy vọng chị sẽ thích một trong số đó!',\n",
       " 'intermediate_steps': [(ToolAgentAction(tool='find_products_by_properties', tool_input={'color': 'đỏ', 'size': 'L'}, log=\"\\nInvoking: `find_products_by_properties` with `{'color': 'đỏ', 'size': 'L'}`\\n\\n\\n\", message_log=[AIMessageChunk(content='', additional_kwargs={'tool_calls': [{'index': 0, 'id': 'call_q9GFz6Y1t9EwL56nGisiWgNZ', 'function': {'arguments': '{\"color\": \"đỏ\", \"size\": \"L\"}', 'name': 'find_products_by_properties'}, 'type': 'function'}]}, response_metadata={'finish_reason': 'tool_calls'}, id='run-668f5ef0-7273-4784-bba4-86f4180b2c76', tool_calls=[{'name': 'find_products_by_properties', 'args': {'color': 'đỏ', 'size': 'L'}, 'id': 'call_q9GFz6Y1t9EwL56nGisiWgNZ', 'type': 'tool_call'}], tool_call_chunks=[{'name': 'find_products_by_properties', 'args': '{\"color\": \"đỏ\", \"size\": \"L\"}', 'id': 'call_q9GFz6Y1t9EwL56nGisiWgNZ', 'index': 0, 'type': 'tool_call_chunk'}])], tool_call_id='call_q9GFz6Y1t9EwL56nGisiWgNZ'),\n",
       "   '[{\"product_id\": \"209917136\", \"product_name\": \"2 áo V1 đỏ tươi L (không kèm quần)\", \"color\": \"đỏ tươi\", \"size\": \"L\", \"note\": \"2 áo, không kèm quần\"}, {\"product_id\": \"177739462\", \"product_name\": \"A1 ĐỎ TƯƠI CẢ BỘ- (SIZE)L\", \"color\": \"đỏ tươi\", \"size\": \"L\", \"note\": \"cả bộ\"}, {\"product_id\": \"170262437\", \"product_name\": \"A1 ĐỎ TƯƠI CẢ BỘ- (SIZE) L\", \"color\": \"đỏ tươi\", \"size\": \"L\", \"note\": \"cả bộ\"}]')]}"
      ]
     },
     "execution_count": 6,
     "metadata": {},
     "output_type": "execute_result"
    }
   ],
   "source": [
    "output = agent_executor.invoke(\n",
    "    {\n",
    "        'input': \"Shop có sản phẩm nào màu đỏ size L không?\"    \n",
    "    }\n",
    ")\n",
    "output"
   ]
  }
 ],
 "metadata": {
  "kernelspec": {
   "display_name": "fc",
   "language": "python",
   "name": "python3"
  },
  "language_info": {
   "codemirror_mode": {
    "name": "ipython",
    "version": 3
   },
   "file_extension": ".py",
   "mimetype": "text/x-python",
   "name": "python",
   "nbconvert_exporter": "python",
   "pygments_lexer": "ipython3",
   "version": "3.9.5"
  },
  "orig_nbformat": 4
 },
 "nbformat": 4,
 "nbformat_minor": 2
}
