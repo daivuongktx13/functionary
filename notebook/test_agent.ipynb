{
 "cells": [
  {
   "cell_type": "code",
   "execution_count": 1,
   "metadata": {},
   "outputs": [
    {
     "name": "stdout",
     "output_type": "stream",
     "text": [
      "Product with ID 195859213 already exists.\n",
      "Stop Insert.\n"
     ]
    }
   ],
   "source": [
    "from datetime import datetime\n",
    "from langchain_core.tools import tool\n",
    "from langchain_core.prompts.chat import (\n",
    "    ChatPromptTemplate,\n",
    "    MessagesPlaceholder\n",
    ")\n",
    "\n",
    "from langchain_openai import ChatOpenAI\n",
    "from langchain.agents import AgentExecutor, create_openai_tools_agent\n",
    "\n",
    "from product import get_random_products, find_products_by_name, find_products_by_properties"
   ]
  },
  {
   "cell_type": "code",
   "execution_count": 2,
   "metadata": {},
   "outputs": [],
   "source": [
    "llm = ChatOpenAI(model=\"hugging-quants/Meta-Llama-3.1-8B-Instruct-AWQ-INT4\", \n",
    "    base_url=\"http://localhost:8000/v1\", api_key=\"functionary\")"
   ]
  },
  {
   "cell_type": "code",
   "execution_count": 3,
   "metadata": {},
   "outputs": [],
   "source": [
    "@tool\n",
    "def calculate_shipping_fee(address: str) -> str:\n",
    "    \"\"\"Xác định phí ship dựa vào thông tin địa chỉ nhận hàng của khách.\"\"\"\n",
    "    return \"Ship nội thành trong phạm vi 5km: free ship\"\n",
    "\n",
    "@tool\n",
    "def get_current_datetime() -> str:\n",
    "    \"\"\"Get the current date and time in ISO Date Time Format.\"\"\"\n",
    "    return datetime.now().isoformat()\n",
    "\n",
    "tools = [get_random_products, calculate_shipping_fee, get_current_datetime, find_products_by_properties, find_products_by_name]"
   ]
  },
  {
   "cell_type": "code",
   "execution_count": 4,
   "metadata": {},
   "outputs": [],
   "source": [
    "prompt = [\n",
    "    (\"human\", \"{input}\"),\n",
    "    MessagesPlaceholder(variable_name='agent_scratchpad')\n",
    "]\n",
    "\n",
    "prompt = ChatPromptTemplate.from_messages(prompt)"
   ]
  },
  {
   "cell_type": "code",
   "execution_count": 5,
   "metadata": {},
   "outputs": [],
   "source": [
    "agent = create_openai_tools_agent(llm, tools, prompt)\n",
    "agent_executor = AgentExecutor(agent=agent, \n",
    "    tools=tools, \n",
    "    verbose=True,\n",
    "    handle_parse_errors=True,\n",
    "    return_intermediate_steps=True)"
   ]
  },
  {
   "cell_type": "code",
   "execution_count": 7,
   "metadata": {},
   "outputs": [
    {
     "name": "stdout",
     "output_type": "stream",
     "text": [
      "\n",
      "\n",
      "\u001b[1m> Entering new AgentExecutor chain...\u001b[0m\n"
     ]
    },
    {
     "name": "stdout",
     "output_type": "stream",
     "text": [
      "\u001b[32;1m\u001b[1;3m\n",
      "Invoking: `find_products_by_name` with `{'name': 'Đ69 đỏ tươi L'}`\n",
      "\n",
      "\n",
      "\u001b[0m\u001b[33;1m\u001b[1;3m[{'product_name': 'Đ69 đỏ tươi L ( kèm quần)', 'product_id': 200597009, 'frst_level_cat': 'Thời trang', 'scnd_level_cat': 'Thời Trang Nữ', 'thrd_level_cat': 'Thời trang nữ khác'}, {'product_name': 'Đ69 đỏ tươi M ( kèm quần)', 'product_id': 201134092, 'frst_level_cat': 'Thời trang', 'scnd_level_cat': 'Thời Trang Nữ', 'thrd_level_cat': 'Thời trang nữ khác'}, {'product_name': 'Đ69 đỏ tươi M (kèm quần )', 'product_id': 205731156, 'frst_level_cat': 'Thời trang', 'scnd_level_cat': 'Thời Trang Nữ', 'thrd_level_cat': 'Thời trang nữ khác'}, {'product_name': 'Đ69 đỏ tươi XL (kèm quần)', 'product_id': 204693413, 'frst_level_cat': 'Thời trang', 'scnd_level_cat': 'Thời Trang Nữ', 'thrd_level_cat': 'Thời trang nữ khác'}, {'product_name': 'Đ69 đỏ tươi S ( kèm quần)', 'product_id': 209116810, 'frst_level_cat': 'Thời trang', 'scnd_level_cat': 'Thời Trang Nữ', 'thrd_level_cat': 'Thời trang nữ khác'}]\u001b[0m\u001b[32;1m\u001b[1;3mCảm ơn chị đã tìm kiếm sản phẩm của shop! Shop có bán sản phẩm \"Đ69 đỏ tươi L ( kèm quần)\" với ID sản phẩm là 200597009. Shop mong muốn chị đến thăm shop để trải nghiệm sản phẩm này.\u001b[0m\n",
      "\n",
      "\u001b[1m> Finished chain.\u001b[0m\n"
     ]
    },
    {
     "data": {
      "text/plain": [
       "{'input': 'Shop có sản phẩm nào màu đỏ size L không?',\n",
       " 'output': 'Cảm ơn chị đã tìm kiếm sản phẩm của shop! Shop có bán sản phẩm \"Đ69 đỏ tươi L ( kèm quần)\" với ID sản phẩm là 200597009. Shop mong muốn chị đến thăm shop để trải nghiệm sản phẩm này.',\n",
       " 'intermediate_steps': [(ToolAgentAction(tool='find_products_by_name', tool_input={'name': 'Đ69 đỏ tươi L'}, log=\"\\nInvoking: `find_products_by_name` with `{'name': 'Đ69 đỏ tươi L'}`\\n\\n\\n\", message_log=[AIMessageChunk(content='', additional_kwargs={'tool_calls': [{'index': 0, 'id': 'call_vVcIripW9EwNsRwL85O2NiTt', 'function': {'arguments': '{\"name\": \"Đ69 đỏ tươi L\"}', 'name': 'find_products_by_name'}, 'type': 'function'}]}, response_metadata={'finish_reason': 'tool_calls'}, id='run-fed57261-2ba2-40ea-a14f-6e5460da1995', tool_calls=[{'name': 'find_products_by_name', 'args': {'name': 'Đ69 đỏ tươi L'}, 'id': 'call_vVcIripW9EwNsRwL85O2NiTt', 'type': 'tool_call'}], tool_call_chunks=[{'name': 'find_products_by_name', 'args': '{\"name\": \"Đ69 đỏ tươi L\"}', 'id': 'call_vVcIripW9EwNsRwL85O2NiTt', 'index': 0, 'type': 'tool_call_chunk'}])], tool_call_id='call_vVcIripW9EwNsRwL85O2NiTt'),\n",
       "   [{'product_name': 'Đ69 đỏ tươi L ( kèm quần)',\n",
       "     'product_id': 200597009,\n",
       "     'frst_level_cat': 'Thời trang',\n",
       "     'scnd_level_cat': 'Thời Trang Nữ',\n",
       "     'thrd_level_cat': 'Thời trang nữ khác'},\n",
       "    {'product_name': 'Đ69 đỏ tươi M ( kèm quần)',\n",
       "     'product_id': 201134092,\n",
       "     'frst_level_cat': 'Thời trang',\n",
       "     'scnd_level_cat': 'Thời Trang Nữ',\n",
       "     'thrd_level_cat': 'Thời trang nữ khác'},\n",
       "    {'product_name': 'Đ69 đỏ tươi M (kèm quần )',\n",
       "     'product_id': 205731156,\n",
       "     'frst_level_cat': 'Thời trang',\n",
       "     'scnd_level_cat': 'Thời Trang Nữ',\n",
       "     'thrd_level_cat': 'Thời trang nữ khác'},\n",
       "    {'product_name': 'Đ69 đỏ tươi XL (kèm quần)',\n",
       "     'product_id': 204693413,\n",
       "     'frst_level_cat': 'Thời trang',\n",
       "     'scnd_level_cat': 'Thời Trang Nữ',\n",
       "     'thrd_level_cat': 'Thời trang nữ khác'},\n",
       "    {'product_name': 'Đ69 đỏ tươi S ( kèm quần)',\n",
       "     'product_id': 209116810,\n",
       "     'frst_level_cat': 'Thời trang',\n",
       "     'scnd_level_cat': 'Thời Trang Nữ',\n",
       "     'thrd_level_cat': 'Thời trang nữ khác'}])]}"
      ]
     },
     "execution_count": 7,
     "metadata": {},
     "output_type": "execute_result"
    }
   ],
   "source": [
    "output = agent_executor.invoke(\n",
    "    {\n",
    "        'input': \"Shop có sản phẩm nào màu đỏ size L không?\"    \n",
    "    }\n",
    ")\n",
    "output"
   ]
  }
 ],
 "metadata": {
  "kernelspec": {
   "display_name": "fc",
   "language": "python",
   "name": "python3"
  },
  "language_info": {
   "codemirror_mode": {
    "name": "ipython",
    "version": 3
   },
   "file_extension": ".py",
   "mimetype": "text/x-python",
   "name": "python",
   "nbconvert_exporter": "python",
   "pygments_lexer": "ipython3",
   "version": "3.9.5"
  },
  "orig_nbformat": 4
 },
 "nbformat": 4,
 "nbformat_minor": 2
}
