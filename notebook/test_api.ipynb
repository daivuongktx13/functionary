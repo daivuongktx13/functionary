{
 "cells": [
  {
   "cell_type": "code",
   "execution_count": 1,
   "metadata": {},
   "outputs": [],
   "source": [
    "from openai import OpenAI\n",
    "\n",
    "client = OpenAI(base_url=\"http://localhost:8000/v1\", api_key=\"functionary\")\n",
    "\n",
    "output = client.chat.completions.create(\n",
    "    model=\"meta-llama/Meta-Llama-3.1-8B-Instruct\",\n",
    "    messages=[{\"role\": \"user\",\n",
    "            \"content\": \"Thời tiết Việt Nam hiện tại như nào?\"}\n",
    "    ],\n",
    "    tools=[{\n",
    "            \"type\": \"function\",\n",
    "            \"function\": {\n",
    "                \"name\": \"get_current_weather\",\n",
    "                \"description\": \"Get the current weather\",\n",
    "                \"parameters\": {\n",
    "                    \"type\": \"object\",\n",
    "                    \"properties\": {\n",
    "                        \"location\": {\n",
    "                            \"type\": \"string\",\n",
    "                            \"description\": \"The city and state, e.g. San Francisco, CA\"\n",
    "                        }\n",
    "                    },\n",
    "                    \"required\": [\"location\"]\n",
    "                }\n",
    "            }\n",
    "        }],\n",
    "    tool_choice=\"auto\"\n",
    ")"
   ]
  },
  {
   "cell_type": "code",
   "execution_count": 2,
   "metadata": {},
   "outputs": [
    {
     "data": {
      "text/plain": [
       "ChatCompletionMessage(content='Chị ơi! Theo thông tin cập nhật, thời tiết hiện tại tại Việt Nam đang trải qua một mùa hè nóng bức và khô hạn. Nhiệt độ trung bình cao khoảng 35-40 độ C, với một số khu vực có thể lên đến 42 độ C. Em khuyên chị nên mang theo nước uống và quần áo nhẹ nhàng để cảm thấy thoải mái khi di chuyển. Nếu chị có bất kỳ thắc mắc nào về thời tiết hoặc cần thông tin cụ thể hơn, vui lòng cho em biết để shop có thể hỗ trợ chị tốt nhất!', role='assistant', function_call=None, tool_calls=None, tool_call_id=None, name=None)"
      ]
     },
     "execution_count": 2,
     "metadata": {},
     "output_type": "execute_result"
    }
   ],
   "source": [
    "output.choices[0].message"
   ]
  }
 ],
 "metadata": {
  "kernelspec": {
   "display_name": "fc",
   "language": "python",
   "name": "python3"
  },
  "language_info": {
   "codemirror_mode": {
    "name": "ipython",
    "version": 3
   },
   "file_extension": ".py",
   "mimetype": "text/x-python",
   "name": "python",
   "nbconvert_exporter": "python",
   "pygments_lexer": "ipython3",
   "version": "3.9.5"
  },
  "orig_nbformat": 4
 },
 "nbformat": 4,
 "nbformat_minor": 2
}
